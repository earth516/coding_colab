{
  "nbformat": 4,
  "nbformat_minor": 0,
  "metadata": {
    "colab": {
      "provenance": [],
      "authorship_tag": "ABX9TyOYiX0v7b4DlEfwc0y2hHTN",
      "include_colab_link": true
    },
    "kernelspec": {
      "name": "python3",
      "display_name": "Python 3"
    },
    "language_info": {
      "name": "python"
    }
  },
  "cells": [
    {
      "cell_type": "markdown",
      "metadata": {
        "id": "view-in-github",
        "colab_type": "text"
      },
      "source": [
        "<a href=\"https://colab.research.google.com/github/earth516/coding_colab/blob/main/%EB%8D%B0%EC%9D%B4%ED%84%B0%EB%B6%84%EC%84%9D_1_API.ipynb\" target=\"_parent\"><img src=\"https://colab.research.google.com/assets/colab-badge.svg\" alt=\"Open In Colab\"/></a>"
      ]
    },
    {
      "cell_type": "markdown",
      "source": [
        "**파이썬에서 JSON 다루기**\n",
        "1. JSON 문자열로 변환하기: json.dumps()\n",
        "2. JSON 문자열을 파이썬 객체로 변환하기: json.loads()\n",
        "3. JSON 문자열을 데이터 프레임으로 변환하기: read_json()"
      ],
      "metadata": {
        "id": "OjCyBv4HCWJf"
      }
    },
    {
      "cell_type": "code",
      "execution_count": null,
      "metadata": {
        "id": "Cs6GbZzHQhDM"
      },
      "outputs": [],
      "source": [
        "import json"
      ]
    },
    {
      "cell_type": "code",
      "source": [
        "a={\"name\":\"지구과학1\"}\n",
        "\n",
        "b={\n",
        "    \"name\"    : \"홍길동\",\n",
        "    \"age\"     : 20,\n",
        "    \"height\"  : 183.5,\n",
        "    \"city\"    : \"seoul\",\n",
        "    \"married\" : True,\n",
        "    \"address\" : 'null'\n",
        "}"
      ],
      "metadata": {
        "id": "oS_7w1xcREzQ"
      },
      "execution_count": null,
      "outputs": []
    },
    {
      "cell_type": "code",
      "source": [
        "#ensure_ascii 매개변수를 False로 지정\n",
        "#d에 한글이 포함되어 있기 떄문\n",
        "#기본적으로 json.dumps()는 ASCII 문자 외의 다른 문자를\n",
        "#16진수로 출력하기 때문에 한글이 제대로 보이지 않는다.\n",
        "#따라서 ensure_ascii 매개변수를 False로 지정하여\n",
        "#원래 저장된 문자를 그대로 출력\n",
        "\n",
        "\n",
        "a_str=json.dumps(a, ensure_ascii=False)\n",
        "print(a_str)\n",
        "print(type(a_str))\n",
        "\n",
        "print('='*30)\n",
        "\n",
        "b_str=json.dumps(b, ensure_ascii=False)\n",
        "print(b_str)\n",
        "print(type(b_str))\n",
        "\n",
        "print('='*30)\n"
      ],
      "metadata": {
        "colab": {
          "base_uri": "https://localhost:8080/"
        },
        "id": "K5Z8QcaERQA6",
        "outputId": "61d60fc0-9b80-4355-c409-69c3b4c00f9d"
      },
      "execution_count": null,
      "outputs": [
        {
          "output_type": "stream",
          "name": "stdout",
          "text": [
            "{\"name\": \"지구과학1\"}\n",
            "<class 'str'>\n",
            "==============================\n",
            "{\"name\": \"홍길동\", \"age\": 20, \"height\": 183.5, \"city\": \"seoul\", \"married\": true, \"address\": \"null\"}\n",
            "<class 'str'>\n",
            "==============================\n"
          ]
        }
      ]
    },
    {
      "cell_type": "code",
      "source": [
        "a1=json.loads(a_str)\n",
        "print(a1['name'])\n",
        "print('='*30)\n",
        "\n",
        "b1=json.loads(b_str)\n",
        "print(b1['name'])\n",
        "print('='*30)\n",
        "\n",
        "print(type(a1))\n",
        "print(type(b1))"
      ],
      "metadata": {
        "colab": {
          "base_uri": "https://localhost:8080/"
        },
        "id": "2StyIkmoRXm_",
        "outputId": "e2237ff3-57c3-46bc-acde-58a5687428fc"
      },
      "execution_count": null,
      "outputs": [
        {
          "output_type": "stream",
          "name": "stdout",
          "text": [
            "지구과학1\n",
            "==============================\n",
            "홍길동\n",
            "==============================\n",
            "<class 'dict'>\n",
            "<class 'dict'>\n"
          ]
        }
      ]
    },
    {
      "cell_type": "code",
      "source": [
        "import pandas as pd"
      ],
      "metadata": {
        "id": "jH9gExOOR8Io"
      },
      "execution_count": null,
      "outputs": []
    },
    {
      "cell_type": "code",
      "source": [
        "c1_str=\"\"\"\n",
        "[\n",
        "    { \"name\" : \"홍길동\",   \"age\" : 20 },\n",
        "    { \"name\" : \"이순신\",   \"age\" : 54 },\n",
        "    { \"name\" : \"신사임당\", \"age\" : 48 }\n",
        "]\n",
        "\"\"\"\n",
        "c1=json.loads(c1_str)"
      ],
      "metadata": {
        "id": "c3b_PV7OR-p6"
      },
      "execution_count": null,
      "outputs": []
    },
    {
      "cell_type": "code",
      "source": [
        "pd.read_json(c1_str)"
      ],
      "metadata": {
        "colab": {
          "base_uri": "https://localhost:8080/",
          "height": 143
        },
        "id": "bvB0kabxNuQz",
        "outputId": "ac59c254-f37b-496c-a276-c8c8f68ee548"
      },
      "execution_count": null,
      "outputs": [
        {
          "output_type": "execute_result",
          "data": {
            "text/plain": [
              "   name  age\n",
              "0   홍길동   20\n",
              "1   이순신   54\n",
              "2  신사임당   48"
            ],
            "text/html": [
              "\n",
              "  <div id=\"df-d64e51ca-e16f-4ceb-b580-cdbb1089ffc8\" class=\"colab-df-container\">\n",
              "    <div>\n",
              "<style scoped>\n",
              "    .dataframe tbody tr th:only-of-type {\n",
              "        vertical-align: middle;\n",
              "    }\n",
              "\n",
              "    .dataframe tbody tr th {\n",
              "        vertical-align: top;\n",
              "    }\n",
              "\n",
              "    .dataframe thead th {\n",
              "        text-align: right;\n",
              "    }\n",
              "</style>\n",
              "<table border=\"1\" class=\"dataframe\">\n",
              "  <thead>\n",
              "    <tr style=\"text-align: right;\">\n",
              "      <th></th>\n",
              "      <th>name</th>\n",
              "      <th>age</th>\n",
              "    </tr>\n",
              "  </thead>\n",
              "  <tbody>\n",
              "    <tr>\n",
              "      <th>0</th>\n",
              "      <td>홍길동</td>\n",
              "      <td>20</td>\n",
              "    </tr>\n",
              "    <tr>\n",
              "      <th>1</th>\n",
              "      <td>이순신</td>\n",
              "      <td>54</td>\n",
              "    </tr>\n",
              "    <tr>\n",
              "      <th>2</th>\n",
              "      <td>신사임당</td>\n",
              "      <td>48</td>\n",
              "    </tr>\n",
              "  </tbody>\n",
              "</table>\n",
              "</div>\n",
              "    <div class=\"colab-df-buttons\">\n",
              "\n",
              "  <div class=\"colab-df-container\">\n",
              "    <button class=\"colab-df-convert\" onclick=\"convertToInteractive('df-d64e51ca-e16f-4ceb-b580-cdbb1089ffc8')\"\n",
              "            title=\"Convert this dataframe to an interactive table.\"\n",
              "            style=\"display:none;\">\n",
              "\n",
              "  <svg xmlns=\"http://www.w3.org/2000/svg\" height=\"24px\" viewBox=\"0 -960 960 960\">\n",
              "    <path d=\"M120-120v-720h720v720H120Zm60-500h600v-160H180v160Zm220 220h160v-160H400v160Zm0 220h160v-160H400v160ZM180-400h160v-160H180v160Zm440 0h160v-160H620v160ZM180-180h160v-160H180v160Zm440 0h160v-160H620v160Z\"/>\n",
              "  </svg>\n",
              "    </button>\n",
              "\n",
              "  <style>\n",
              "    .colab-df-container {\n",
              "      display:flex;\n",
              "      gap: 12px;\n",
              "    }\n",
              "\n",
              "    .colab-df-convert {\n",
              "      background-color: #E8F0FE;\n",
              "      border: none;\n",
              "      border-radius: 50%;\n",
              "      cursor: pointer;\n",
              "      display: none;\n",
              "      fill: #1967D2;\n",
              "      height: 32px;\n",
              "      padding: 0 0 0 0;\n",
              "      width: 32px;\n",
              "    }\n",
              "\n",
              "    .colab-df-convert:hover {\n",
              "      background-color: #E2EBFA;\n",
              "      box-shadow: 0px 1px 2px rgba(60, 64, 67, 0.3), 0px 1px 3px 1px rgba(60, 64, 67, 0.15);\n",
              "      fill: #174EA6;\n",
              "    }\n",
              "\n",
              "    .colab-df-buttons div {\n",
              "      margin-bottom: 4px;\n",
              "    }\n",
              "\n",
              "    [theme=dark] .colab-df-convert {\n",
              "      background-color: #3B4455;\n",
              "      fill: #D2E3FC;\n",
              "    }\n",
              "\n",
              "    [theme=dark] .colab-df-convert:hover {\n",
              "      background-color: #434B5C;\n",
              "      box-shadow: 0px 1px 3px 1px rgba(0, 0, 0, 0.15);\n",
              "      filter: drop-shadow(0px 1px 2px rgba(0, 0, 0, 0.3));\n",
              "      fill: #FFFFFF;\n",
              "    }\n",
              "  </style>\n",
              "\n",
              "    <script>\n",
              "      const buttonEl =\n",
              "        document.querySelector('#df-d64e51ca-e16f-4ceb-b580-cdbb1089ffc8 button.colab-df-convert');\n",
              "      buttonEl.style.display =\n",
              "        google.colab.kernel.accessAllowed ? 'block' : 'none';\n",
              "\n",
              "      async function convertToInteractive(key) {\n",
              "        const element = document.querySelector('#df-d64e51ca-e16f-4ceb-b580-cdbb1089ffc8');\n",
              "        const dataTable =\n",
              "          await google.colab.kernel.invokeFunction('convertToInteractive',\n",
              "                                                    [key], {});\n",
              "        if (!dataTable) return;\n",
              "\n",
              "        const docLinkHtml = 'Like what you see? Visit the ' +\n",
              "          '<a target=\"_blank\" href=https://colab.research.google.com/notebooks/data_table.ipynb>data table notebook</a>'\n",
              "          + ' to learn more about interactive tables.';\n",
              "        element.innerHTML = '';\n",
              "        dataTable['output_type'] = 'display_data';\n",
              "        await google.colab.output.renderOutput(dataTable, element);\n",
              "        const docLink = document.createElement('div');\n",
              "        docLink.innerHTML = docLinkHtml;\n",
              "        element.appendChild(docLink);\n",
              "      }\n",
              "    </script>\n",
              "  </div>\n",
              "\n",
              "\n",
              "<div id=\"df-1dbe4eae-0a2f-471c-802d-d802b8bd1e46\">\n",
              "  <button class=\"colab-df-quickchart\" onclick=\"quickchart('df-1dbe4eae-0a2f-471c-802d-d802b8bd1e46')\"\n",
              "            title=\"Suggest charts\"\n",
              "            style=\"display:none;\">\n",
              "\n",
              "<svg xmlns=\"http://www.w3.org/2000/svg\" height=\"24px\"viewBox=\"0 0 24 24\"\n",
              "     width=\"24px\">\n",
              "    <g>\n",
              "        <path d=\"M19 3H5c-1.1 0-2 .9-2 2v14c0 1.1.9 2 2 2h14c1.1 0 2-.9 2-2V5c0-1.1-.9-2-2-2zM9 17H7v-7h2v7zm4 0h-2V7h2v10zm4 0h-2v-4h2v4z\"/>\n",
              "    </g>\n",
              "</svg>\n",
              "  </button>\n",
              "\n",
              "<style>\n",
              "  .colab-df-quickchart {\n",
              "      --bg-color: #E8F0FE;\n",
              "      --fill-color: #1967D2;\n",
              "      --hover-bg-color: #E2EBFA;\n",
              "      --hover-fill-color: #174EA6;\n",
              "      --disabled-fill-color: #AAA;\n",
              "      --disabled-bg-color: #DDD;\n",
              "  }\n",
              "\n",
              "  [theme=dark] .colab-df-quickchart {\n",
              "      --bg-color: #3B4455;\n",
              "      --fill-color: #D2E3FC;\n",
              "      --hover-bg-color: #434B5C;\n",
              "      --hover-fill-color: #FFFFFF;\n",
              "      --disabled-bg-color: #3B4455;\n",
              "      --disabled-fill-color: #666;\n",
              "  }\n",
              "\n",
              "  .colab-df-quickchart {\n",
              "    background-color: var(--bg-color);\n",
              "    border: none;\n",
              "    border-radius: 50%;\n",
              "    cursor: pointer;\n",
              "    display: none;\n",
              "    fill: var(--fill-color);\n",
              "    height: 32px;\n",
              "    padding: 0;\n",
              "    width: 32px;\n",
              "  }\n",
              "\n",
              "  .colab-df-quickchart:hover {\n",
              "    background-color: var(--hover-bg-color);\n",
              "    box-shadow: 0 1px 2px rgba(60, 64, 67, 0.3), 0 1px 3px 1px rgba(60, 64, 67, 0.15);\n",
              "    fill: var(--button-hover-fill-color);\n",
              "  }\n",
              "\n",
              "  .colab-df-quickchart-complete:disabled,\n",
              "  .colab-df-quickchart-complete:disabled:hover {\n",
              "    background-color: var(--disabled-bg-color);\n",
              "    fill: var(--disabled-fill-color);\n",
              "    box-shadow: none;\n",
              "  }\n",
              "\n",
              "  .colab-df-spinner {\n",
              "    border: 2px solid var(--fill-color);\n",
              "    border-color: transparent;\n",
              "    border-bottom-color: var(--fill-color);\n",
              "    animation:\n",
              "      spin 1s steps(1) infinite;\n",
              "  }\n",
              "\n",
              "  @keyframes spin {\n",
              "    0% {\n",
              "      border-color: transparent;\n",
              "      border-bottom-color: var(--fill-color);\n",
              "      border-left-color: var(--fill-color);\n",
              "    }\n",
              "    20% {\n",
              "      border-color: transparent;\n",
              "      border-left-color: var(--fill-color);\n",
              "      border-top-color: var(--fill-color);\n",
              "    }\n",
              "    30% {\n",
              "      border-color: transparent;\n",
              "      border-left-color: var(--fill-color);\n",
              "      border-top-color: var(--fill-color);\n",
              "      border-right-color: var(--fill-color);\n",
              "    }\n",
              "    40% {\n",
              "      border-color: transparent;\n",
              "      border-right-color: var(--fill-color);\n",
              "      border-top-color: var(--fill-color);\n",
              "    }\n",
              "    60% {\n",
              "      border-color: transparent;\n",
              "      border-right-color: var(--fill-color);\n",
              "    }\n",
              "    80% {\n",
              "      border-color: transparent;\n",
              "      border-right-color: var(--fill-color);\n",
              "      border-bottom-color: var(--fill-color);\n",
              "    }\n",
              "    90% {\n",
              "      border-color: transparent;\n",
              "      border-bottom-color: var(--fill-color);\n",
              "    }\n",
              "  }\n",
              "</style>\n",
              "\n",
              "  <script>\n",
              "    async function quickchart(key) {\n",
              "      const quickchartButtonEl =\n",
              "        document.querySelector('#' + key + ' button');\n",
              "      quickchartButtonEl.disabled = true;  // To prevent multiple clicks.\n",
              "      quickchartButtonEl.classList.add('colab-df-spinner');\n",
              "      try {\n",
              "        const charts = await google.colab.kernel.invokeFunction(\n",
              "            'suggestCharts', [key], {});\n",
              "      } catch (error) {\n",
              "        console.error('Error during call to suggestCharts:', error);\n",
              "      }\n",
              "      quickchartButtonEl.classList.remove('colab-df-spinner');\n",
              "      quickchartButtonEl.classList.add('colab-df-quickchart-complete');\n",
              "    }\n",
              "    (() => {\n",
              "      let quickchartButtonEl =\n",
              "        document.querySelector('#df-1dbe4eae-0a2f-471c-802d-d802b8bd1e46 button');\n",
              "      quickchartButtonEl.style.display =\n",
              "        google.colab.kernel.accessAllowed ? 'block' : 'none';\n",
              "    })();\n",
              "  </script>\n",
              "</div>\n",
              "\n",
              "    </div>\n",
              "  </div>\n"
            ],
            "application/vnd.google.colaboratory.intrinsic+json": {
              "type": "dataframe",
              "summary": "{\n  \"name\": \"pd\",\n  \"rows\": 3,\n  \"fields\": [\n    {\n      \"column\": \"name\",\n      \"properties\": {\n        \"dtype\": \"string\",\n        \"num_unique_values\": 3,\n        \"samples\": [\n          \"\\ud64d\\uae38\\ub3d9\",\n          \"\\uc774\\uc21c\\uc2e0\",\n          \"\\uc2e0\\uc0ac\\uc784\\ub2f9\"\n        ],\n        \"semantic_type\": \"\",\n        \"description\": \"\"\n      }\n    },\n    {\n      \"column\": \"age\",\n      \"properties\": {\n        \"dtype\": \"number\",\n        \"std\": 18,\n        \"min\": 20,\n        \"max\": 54,\n        \"num_unique_values\": 3,\n        \"samples\": [\n          20,\n          54,\n          48\n        ],\n        \"semantic_type\": \"\",\n        \"description\": \"\"\n      }\n    }\n  ]\n}"
            }
          },
          "metadata": {},
          "execution_count": 26
        }
      ]
    },
    {
      "cell_type": "markdown",
      "source": [
        "**파이썬에서 XML 다루기**\n",
        "1. XML 문자열을 파이썬 객체로 변환하기: fromstring()\n",
        "2. 자식 엘리먼트 확인하기: findtext()\n",
        "3. 여러 개의 자식 엘리먼트 확인하기: findall()"
      ],
      "metadata": {
        "id": "skooTWdcSWgd"
      }
    },
    {
      "cell_type": "code",
      "source": [
        "x_str=\"\"\"\n",
        "  <book category=\"cooking\">\n",
        "    <title lang=\"en\">Everyday Italian</title>\n",
        "    <author>Giada De Laurentiis</author>\n",
        "    <year>2005</year>\n",
        "    <price>30.00</price>\n",
        "  </book>\n",
        "  \"\"\""
      ],
      "metadata": {
        "id": "NXbIvPlMQBxu"
      },
      "execution_count": null,
      "outputs": []
    },
    {
      "cell_type": "code",
      "source": [
        "import xml.etree.ElementTree as ET\n",
        "book=ET.fromstring(x_str)\n",
        "#josn과 달리 fromstring()함수가 반환하는 객체는\n",
        "#단순한 파이썬 객체가 아니라\n",
        "#ElementTree 모듈 아래에 정의된 Element 클래스의 객체"
      ],
      "metadata": {
        "id": "7mhCguIcSQNU"
      },
      "execution_count": null,
      "outputs": []
    },
    {
      "cell_type": "code",
      "source": [
        "print(type(book))"
      ],
      "metadata": {
        "colab": {
          "base_uri": "https://localhost:8080/"
        },
        "id": "_nxtss1EXS3T",
        "outputId": "36b555a2-b570-41fd-ef6b-5df7634e6b43"
      },
      "execution_count": null,
      "outputs": [
        {
          "output_type": "stream",
          "name": "stdout",
          "text": [
            "<class 'xml.etree.ElementTree.Element'>\n"
          ]
        }
      ]
    },
    {
      "cell_type": "code",
      "source": [
        "#x_str에서 가장 먼저 등장하는 부모 엘리먼트\n",
        "print(book.tag)"
      ],
      "metadata": {
        "colab": {
          "base_uri": "https://localhost:8080/"
        },
        "id": "KuHaFMf3buWM",
        "outputId": "669915f0-5df9-41cd-d271-f9871f2f1087"
      },
      "execution_count": null,
      "outputs": [
        {
          "output_type": "stream",
          "name": "stdout",
          "text": [
            "book\n"
          ]
        }
      ]
    },
    {
      "cell_type": "code",
      "source": [
        "#자식 엘리먼트 확인하기\n",
        "book_childs=list(book)\n",
        "print(book_childs)\n",
        "\n",
        "#실행결과에서 볼 수 있듯이 순서대로 도서명(name), 저자(author), 발행 연도(year)가 담겨 있음."
      ],
      "metadata": {
        "colab": {
          "base_uri": "https://localhost:8080/"
        },
        "id": "LzvjxRPucKE-",
        "outputId": "a4e1f897-0969-44ea-a687-505ffc80f53a"
      },
      "execution_count": null,
      "outputs": [
        {
          "output_type": "stream",
          "name": "stdout",
          "text": [
            "[<Element 'title' at 0x7f21568b77e0>, <Element 'author' at 0x7f21568b7600>, <Element 'year' at 0x7f21568b7ba0>, <Element 'price' at 0x7f21568b7c40>]\n"
          ]
        }
      ]
    },
    {
      "cell_type": "code",
      "source": [
        "name, author, year, price = book_childs\n",
        "print(name.text)\n",
        "print(author.text)\n",
        "print(year.text)\n",
        "print(price.text)\n"
      ],
      "metadata": {
        "colab": {
          "base_uri": "https://localhost:8080/"
        },
        "id": "kWnPjz0ZcUgB",
        "outputId": "ad805069-0edf-4cea-d855-1af07dfa28a6"
      },
      "execution_count": null,
      "outputs": [
        {
          "output_type": "stream",
          "name": "stdout",
          "text": [
            "Everyday Italian\n",
            "Giada De Laurentiis\n",
            "2005\n",
            "30.00\n"
          ]
        }
      ]
    },
    {
      "cell_type": "code",
      "source": [
        "x2_str=\"\"\"\n",
        "<books>\n",
        "  <book>\n",
        "    <name>지구과학1 교과서</name>\n",
        "    <author>이효리</author>\n",
        "    <year>2024</year>\n",
        "  </book>\n",
        "  <book>\n",
        "    <name>지구과학2 교과서</name>\n",
        "    <author>이효리</author>\n",
        "    <year>2024</year>\n",
        "  </book>\n",
        "</books>\n",
        "\"\"\""
      ],
      "metadata": {
        "id": "l5x0oql_cnhy"
      },
      "execution_count": null,
      "outputs": []
    },
    {
      "cell_type": "code",
      "source": [
        "books=ET.fromstring(x2_str)\n",
        "print(books.tag)"
      ],
      "metadata": {
        "colab": {
          "base_uri": "https://localhost:8080/"
        },
        "id": "zlKkbBtEdYBj",
        "outputId": "44325cdf-52c2-429b-f70c-201f56befad9"
      },
      "execution_count": null,
      "outputs": [
        {
          "output_type": "stream",
          "name": "stdout",
          "text": [
            "books\n"
          ]
        }
      ]
    },
    {
      "cell_type": "code",
      "source": [
        "#여러 개의 자식 엘리먼트 확인하기\n",
        "#<books>안에 포함된 두 개의 <book>엘리멘트를 찾고\n",
        "#도서명, 저자, 발행 연도를 출력\n",
        "\n",
        "for book in books.findall('book'):\n",
        "  name=book.findtext('name')\n",
        "  author=book.findtext('author')\n",
        "  year=book.findtext('year')\n",
        "  print(name, author, year)"
      ],
      "metadata": {
        "colab": {
          "base_uri": "https://localhost:8080/"
        },
        "id": "RuLWEUgqdi69",
        "outputId": "505addf2-f5c2-46b5-dfcb-51c7d94c8377"
      },
      "execution_count": null,
      "outputs": [
        {
          "output_type": "stream",
          "name": "stdout",
          "text": [
            "지구과학1 교과서 이효리 2024\n",
            "지구과학2 교과서 이효리 2024\n"
          ]
        }
      ]
    }
  ]
}